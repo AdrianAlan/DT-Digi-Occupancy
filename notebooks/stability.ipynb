{
 "cells": [
  {
   "cell_type": "markdown",
   "metadata": {},
   "source": [
    "# Checking stability of the model versus time"
   ]
  },
  {
   "cell_type": "markdown",
   "metadata": {},
   "source": [
    "One of the problems of the current framework is the fact that hard coded tests are not able to handle cases when the number of acquired statistics is limited i.e. at the low lumisection range, especially at the begining of the run. This produces too many false positives at the beginig of the run, however they do stabilize over time. "
   ]
  },
  {
   "cell_type": "markdown",
   "metadata": {},
   "source": [
    "<b>Goal</b><br>\n",
    "The goal of this exercise is to evaluate if the new models handle low-statistics better."
   ]
  },
  {
   "cell_type": "markdown",
   "metadata": {},
   "source": [
    "<b>Assumption</b><br>\n",
    "We don't know if the predictions are correct but the aim of this exercise is to guarantee stability, not accuracy (use the other notebook for this)."
   ]
  },
  {
   "cell_type": "markdown",
   "metadata": {},
   "source": [
    "<b>Method</b><br>\n",
    "We are going to plot number of alarms for collision runs and check the number of alarms generated throughtout the time (lumisections). We have a datapoint every 10 lumisections. We also plot emerging problems as we want to ensure that the scoring fluctations are not suspicious."
   ]
  },
  {
   "cell_type": "code",
   "execution_count": 1,
   "metadata": {
    "collapsed": true
   },
   "outputs": [],
   "source": [
    "#Define those yourself if you want to use your own data\n",
    "\n",
    "#data_directory = \"/eos/cms/store/cmst3/group/dehep/adpol/dt/data\"\n",
    "\n",
    "data_directory = \"../data\""
   ]
  },
  {
   "cell_type": "code",
   "execution_count": 2,
   "metadata": {
    "collapsed": true
   },
   "outputs": [],
   "source": [
    "import matplotlib\n",
    "import matplotlib.pyplot as plt\n",
    "\n",
    "# Change presentation settings\n",
    "\n",
    "%matplotlib inline\n",
    "\n",
    "matplotlib.rcParams[\"figure.figsize\"] = (8.0, 5.0)\n",
    "matplotlib.rcParams[\"xtick.labelsize\"] = 12\n",
    "matplotlib.rcParams[\"ytick.labelsize\"] = 12\n",
    "matplotlib.rcParams[\"axes.spines.left\"] = True\n",
    "matplotlib.rcParams[\"axes.spines.bottom\"] = True\n",
    "matplotlib.rcParams[\"axes.spines.right\"] = False\n",
    "matplotlib.rcParams[\"axes.spines.top\"] = False\n",
    "matplotlib.rcParams[\"axes.labelsize\"] = 14\n",
    "matplotlib.rcParams[\"legend.fontsize\"] = 14\n",
    "matplotlib.rcParams[\"axes.titlesize\"] = 14\n",
    "\n",
    "color_palette = {\"Indigo\": {\n",
    "                    50: \"#E8EAF6\",\n",
    "                    100: \"#C5CAE9\",\n",
    "                    200: \"#9FA8DA\",\n",
    "                    300: \"#7986CB\",\n",
    "                    400: \"#5C6BC0\",\n",
    "                    500: \"#3F51B5\",\n",
    "                    600: \"#3949AB\",\n",
    "                    700: \"#303F9F\",\n",
    "                    800: \"#283593\",\n",
    "                    900: \"#1A237E\"},\n",
    "                 \"Teal\": {      \n",
    "                    50: \"#E0F2F1\",\n",
    "                    100: \"#B2DFDB\",\n",
    "                    200: \"#80CBC4\",\n",
    "                    300: \"#4DB6AC\",\n",
    "                    400: \"#26A69A\",\n",
    "                    500: \"#009688\",\n",
    "                    600: \"#00897B\",\n",
    "                    700: \"#00796B\",\n",
    "                    800: \"#00695C\",\n",
    "                    900: \"#004D40\"}\n",
    "                }\n",
    "\n",
    "line_styles = [(0, ()), (0, (1, 3)), (0, (3, 2))]"
   ]
  },
  {
   "cell_type": "code",
   "execution_count": 3,
   "metadata": {
    "collapsed": false
   },
   "outputs": [],
   "source": [
    "total_no_layers = 2721\n",
    "total_no_chambers = 250"
   ]
  },
  {
   "cell_type": "markdown",
   "metadata": {},
   "source": [
    "### Let's check the stability:"
   ]
  },
  {
   "cell_type": "code",
   "execution_count": 4,
   "metadata": {
    "collapsed": false
   },
   "outputs": [],
   "source": [
    "# Had to be generated before loading in the notebook because ROOT/Notebook import issues\n",
    "\n",
    "import pandas as pd\n",
    "\n",
    "runs = [306777, 306793, 306794]\n",
    "\n",
    "drift_tubes_alarms = pd.DataFrame()\n",
    "\n",
    "for run in runs:\n",
    "    path = \"%s/%sST.csv\" % (data_directory, run)\n",
    "    drift_tubes_alarms = drift_tubes_alarms.append(pd.read_csv(path),\n",
    "                                                   ignore_index=True);"
   ]
  },
  {
   "cell_type": "markdown",
   "metadata": {},
   "source": [
    "For <i>lumi = 0</i> the model returns negative result, while current dqm a positive. Let's add this information since we don't have it in dataframe now."
   ]
  },
  {
   "cell_type": "code",
   "execution_count": 5,
   "metadata": {
    "collapsed": false
   },
   "outputs": [],
   "source": [
    "for run in runs:\n",
    "    df_zero = pd.DataFrame({\"lumi\": [0],\n",
    "                            \"current_dqm\": [total_no_chambers],\n",
    "                            \"total\": [0],\n",
    "                            \"emerging\": [0],\n",
    "                            \"run\": run})\n",
    "    drift_tubes_alarms = pd.concat([df_zero, drift_tubes_alarms],\n",
    "                                   ignore_index=True)"
   ]
  },
  {
   "cell_type": "markdown",
   "metadata": {},
   "source": [
    "Change absolute number to fraction of faults reported w.r.t. all data points. This helps comparing current vs. proposed"
   ]
  },
  {
   "cell_type": "code",
   "execution_count": 6,
   "metadata": {
    "collapsed": false
   },
   "outputs": [],
   "source": [
    "drift_tubes_alarms[\"total\"] = drift_tubes_alarms[\"total\"] / total_no_layers\n",
    "drift_tubes_alarms[\"emerging\"] = drift_tubes_alarms[\"emerging\"] / total_no_layers\n",
    "drift_tubes_alarms[\"current_dqm\"] = drift_tubes_alarms[\"current_dqm\"] / total_no_chambers"
   ]
  },
  {
   "cell_type": "markdown",
   "metadata": {},
   "source": [
    "Finally, plot the stability of the results"
   ]
  },
  {
   "cell_type": "code",
   "execution_count": 7,
   "metadata": {
    "collapsed": false
   },
   "outputs": [
    {
     "data": {
      "image/png": "[encoded data removed]",
      "text/plain": [
       "<matplotlib.figure.Figure at 0x7f9aab111828>"
      ]
     },
     "metadata": {},
     "output_type": "display_data"
    }
   ],
   "source": [
    "import matplotlib.lines as mlines\n",
    "\n",
    "fig, ax = plt.subplots()\n",
    "\n",
    "for i, (run, line_type) in enumerate(zip(runs, line_styles)):\n",
    "    df = drift_tubes_alarms[drift_tubes_alarms.run == run].sort_values(\"lumi\",\n",
    "                                                                       ascending=1)\n",
    "\n",
    "    plt.plot(df[\"lumi\"],\n",
    "             df[\"total\"],\n",
    "             linestyle=line_type,\n",
    "             color=color_palette[\"Indigo\"][900],\n",
    "             linewidth=3.0,\n",
    "             alpha=1,\n",
    "             label=\"Total\" if i == 0 else \"\")\n",
    "\n",
    "    plt.plot(df[\"lumi\"],\n",
    "             df[\"emerging\"],\n",
    "             linestyle=line_type,\n",
    "             color=color_palette[\"Indigo\"][200],\n",
    "             linewidth=3.0,\n",
    "             alpha=0.6,\n",
    "             label=\"Emerging\" if i == 0 else \"\")\n",
    "\n",
    "    plt.plot(df[\"lumi\"],\n",
    "             df[\"current_dqm\"],\n",
    "             linestyle=line_type,\n",
    "             color=color_palette[\"Teal\"][400],\n",
    "             linewidth=3.0,\n",
    "             alpha=0.7,\n",
    "             label=\"Current\" if i == 0 else \"\")\n",
    "\n",
    "plt.xlabel(\"Lumisection\")\n",
    "plt.ylabel(\"Fraction of alarms\")\n",
    "\n",
    "plt.yscale(\"log\")\n",
    "\n",
    "legend_helper =[]\n",
    "for i in range(len(runs)):\n",
    "    legend_helper.append(mlines.Line2D([],\n",
    "                                       [],\n",
    "                                       linestyle=line_styles[i],\n",
    "                                       color=\"black\",\n",
    "                                       label=runs[i]))\n",
    "\n",
    "legend_runs = plt.legend(handles=legend_helper, frameon=False, loc=9)\n",
    "\n",
    "plt.legend(frameon=False)\n",
    "\n",
    "plt.gca().add_artist(legend_runs)\n",
    "\n",
    "plt.show()"
   ]
  },
  {
   "cell_type": "markdown",
   "metadata": {},
   "source": [
    "The graph shows that CNN produces stable results with not many emerging alarms."
   ]
  },
  {
   "cell_type": "markdown",
   "metadata": {
    "collapsed": true
   },
   "source": [
    "<b>Recommedations</b><br>\n",
    "To reduce the amount of emerging alarms after <i>lumi = 10</i> one would have to label more samples integrated over low statistics."
   ]
  },
  {
   "cell_type": "code",
   "execution_count": null,
   "metadata": {
    "collapsed": true
   },
   "outputs": [],
   "source": []
  }
 ],
 "metadata": {
  "kernelspec": {
   "display_name": "Python 3",
   "language": "python",
   "name": "python3"
  },
  "language_info": {
   "codemirror_mode": {
    "name": "ipython",
    "version": 3
   },
   "file_extension": ".py",
   "mimetype": "text/x-python",
   "name": "python",
   "nbconvert_exporter": "python",
   "pygments_lexer": "ipython3",
   "version": "3.6.0"
  }
 },
 "nbformat": 4,
 "nbformat_minor": 1
}
